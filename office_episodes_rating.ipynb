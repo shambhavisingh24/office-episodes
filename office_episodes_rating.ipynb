{
 "cells": [
  {
   "cell_type": "code",
   "execution_count": 1,
   "metadata": {},
   "outputs": [],
   "source": [
    "from requests import get\n",
    "from bs4 import BeautifulSoup\n",
    "import pandas as pd"
   ]
  },
  {
   "cell_type": "code",
   "execution_count": 2,
   "metadata": {},
   "outputs": [
    {
     "name": "stdout",
     "output_type": "stream",
     "text": [
      "\n",
      " \n",
      "\n",
      "\n",
      "\n",
      "\n",
      "\n",
      "\n",
      "\n",
      "\n",
      "\n",
      "<!DOCTYPE html>\n",
      "<html\n",
      "    xmlns:og=\"http://ogp.me/ns#\"\n",
      "    xmlns:fb=\"http://www.facebook.com/2008/fbml\">\n",
      "    <head>\n",
      "         \n",
      "        <meta charset=\"utf-8\">\n",
      "        <meta http-equiv=\"X-UA-Compatible\" content=\"IE=edge\">\n",
      "\n",
      "    <meta name=\"ap\n"
     ]
    }
   ],
   "source": [
    "from requests import get\n",
    "url = 'https://www.imdb.com/title/tt0386676/episodes?season=1'\n",
    "response = get(url)\n",
    "print(response.text[:250])"
   ]
  },
  {
   "cell_type": "code",
   "execution_count": 3,
   "metadata": {},
   "outputs": [
    {
     "data": {
      "text/plain": [
       "bs4.BeautifulSoup"
      ]
     },
     "execution_count": 3,
     "metadata": {},
     "output_type": "execute_result"
    }
   ],
   "source": [
    "from bs4 import BeautifulSoup\n",
    "\n",
    "html_soup = BeautifulSoup(response.text, 'html.parser')\n",
    "type(html_soup)"
   ]
  },
  {
   "cell_type": "code",
   "execution_count": 4,
   "metadata": {},
   "outputs": [],
   "source": [
    "episode_containers = html_soup.find_all('div', class_='info')"
   ]
  },
  {
   "cell_type": "code",
   "execution_count": 5,
   "metadata": {},
   "outputs": [
    {
     "data": {
      "text/plain": [
       "'Pilot'"
      ]
     },
     "execution_count": 5,
     "metadata": {},
     "output_type": "execute_result"
    }
   ],
   "source": [
    "episode_containers[0].a['title']"
   ]
  },
  {
   "cell_type": "code",
   "execution_count": 6,
   "metadata": {},
   "outputs": [
    {
     "data": {
      "text/plain": [
       "'1'"
      ]
     },
     "execution_count": 6,
     "metadata": {},
     "output_type": "execute_result"
    }
   ],
   "source": [
    "episode_containers[0].meta['content']"
   ]
  },
  {
   "cell_type": "code",
   "execution_count": 7,
   "metadata": {},
   "outputs": [
    {
     "data": {
      "text/plain": [
       "<div class=\"airdate\">\n",
       "            24 Mar. 2005\n",
       "    </div>"
      ]
     },
     "execution_count": 7,
     "metadata": {},
     "output_type": "execute_result"
    }
   ],
   "source": [
    "episode_containers[0].find('div', class_='airdate')"
   ]
  },
  {
   "cell_type": "code",
   "execution_count": 11,
   "metadata": {},
   "outputs": [
    {
     "ename": "AttributeError",
     "evalue": "'NoneType' object has no attribute 'text'",
     "output_type": "error",
     "traceback": [
      "\u001b[0;31m---------------------------------------------------------------------------\u001b[0m",
      "\u001b[0;31mAttributeError\u001b[0m                            Traceback (most recent call last)",
      "\u001b[0;32m<ipython-input-11-05cd34cd13af>\u001b[0m in \u001b[0;36m<module>\u001b[0;34m\u001b[0m\n\u001b[0;32m----> 1\u001b[0;31m \u001b[0mepisode_containers\u001b[0m\u001b[0;34m[\u001b[0m\u001b[0;36m0\u001b[0m\u001b[0;34m]\u001b[0m\u001b[0;34m.\u001b[0m\u001b[0mfind\u001b[0m\u001b[0;34m(\u001b[0m\u001b[0;34m'div'\u001b[0m\u001b[0;34m,\u001b[0m \u001b[0mclass_\u001b[0m\u001b[0;34m=\u001b[0m\u001b[0;34m'ipl-rating-star__rating'\u001b[0m\u001b[0;34m)\u001b[0m\u001b[0;34m.\u001b[0m\u001b[0mtext\u001b[0m\u001b[0;34m\u001b[0m\u001b[0;34m\u001b[0m\u001b[0m\n\u001b[0m",
      "\u001b[0;31mAttributeError\u001b[0m: 'NoneType' object has no attribute 'text'"
     ]
    }
   ],
   "source": [
    "episode_containers[0].find('div', class_='ipl-rating-star__rating').text"
   ]
  },
  {
   "cell_type": "code",
   "execution_count": null,
   "metadata": {},
   "outputs": [],
   "source": [
    "office_episodes = []\n",
    "\n",
    "# For every season in the series-- range depends on the show\n",
    "for sn in range(1,10):\n",
    "    # Request from the server the content of the web page by using get(), and store the server’s response in the variable response\n",
    "    response = get('https://www.imdb.com/title/tt0386676/episodes?season=' + str(sn))\n",
    "\n",
    "    # Parse the content of the request with BeautifulSoup\n",
    "    page_html = BeautifulSoup(response.text, 'html.parser')\n",
    "\n",
    "    # Select all the episode containers from the season's page\n",
    "    episode_containers = page_html.find_all('div', class_ = 'info')\n",
    "\n",
    "    # For each episode in each season\n",
    "    for episodes in episode_containers:\n",
    "            # Get the info of each episode on the page\n",
    "            season = sn\n",
    "            episode_number = episodes.meta['content']\n",
    "            title = episodes.a['title']\n",
    "            rating = episodes.find('span', class_='ipl-rating-star__rating').text\n",
    "            total_votes = episodes.find('span', class_='ipl-rating-star__total-votes').text\n",
    "            # Compiling the episode info\n",
    "            episode_data = [season, episode_number, title, rating, total_votes]\n",
    "\n",
    "            # Append the episode info to the complete dataset\n",
    "            office_episodes.append(episode_data)"
   ]
  },
  {
   "cell_type": "code",
   "execution_count": 20,
   "metadata": {},
   "outputs": [
    {
     "data": {
      "text/html": [
       "<div>\n",
       "<style scoped>\n",
       "    .dataframe tbody tr th:only-of-type {\n",
       "        vertical-align: middle;\n",
       "    }\n",
       "\n",
       "    .dataframe tbody tr th {\n",
       "        vertical-align: top;\n",
       "    }\n",
       "\n",
       "    .dataframe thead th {\n",
       "        text-align: right;\n",
       "    }\n",
       "</style>\n",
       "<table border=\"1\" class=\"dataframe\">\n",
       "  <thead>\n",
       "    <tr style=\"text-align: right;\">\n",
       "      <th></th>\n",
       "      <th>season</th>\n",
       "      <th>episode_number</th>\n",
       "      <th>title</th>\n",
       "      <th>airdate</th>\n",
       "      <th>rating</th>\n",
       "      <th>total_votes</th>\n",
       "      <th>desc</th>\n",
       "    </tr>\n",
       "  </thead>\n",
       "  <tbody>\n",
       "    <tr>\n",
       "      <th>0</th>\n",
       "      <td>1</td>\n",
       "      <td>1</td>\n",
       "      <td>Pilot</td>\n",
       "      <td>24 Mar. 2005</td>\n",
       "      <td>7.5</td>\n",
       "      <td>(5,548)</td>\n",
       "      <td>The premiere episode introduces the boss and s...</td>\n",
       "    </tr>\n",
       "    <tr>\n",
       "      <th>1</th>\n",
       "      <td>1</td>\n",
       "      <td>2</td>\n",
       "      <td>Diversity Day</td>\n",
       "      <td>29 Mar. 2005</td>\n",
       "      <td>8.3</td>\n",
       "      <td>(5,410)</td>\n",
       "      <td>Michael's off color remark puts a sensitivity ...</td>\n",
       "    </tr>\n",
       "    <tr>\n",
       "      <th>2</th>\n",
       "      <td>1</td>\n",
       "      <td>3</td>\n",
       "      <td>Health Care</td>\n",
       "      <td>5 Apr. 2005</td>\n",
       "      <td>7.8</td>\n",
       "      <td>(4,536)</td>\n",
       "      <td>Michael leaves Dwight in charge of picking the...</td>\n",
       "    </tr>\n",
       "    <tr>\n",
       "      <th>3</th>\n",
       "      <td>1</td>\n",
       "      <td>4</td>\n",
       "      <td>The Alliance</td>\n",
       "      <td>12 Apr. 2005</td>\n",
       "      <td>8.0</td>\n",
       "      <td>(4,420)</td>\n",
       "      <td>Just for a laugh, Jim agrees to an alliance wi...</td>\n",
       "    </tr>\n",
       "    <tr>\n",
       "      <th>4</th>\n",
       "      <td>1</td>\n",
       "      <td>5</td>\n",
       "      <td>Basketball</td>\n",
       "      <td>19 Apr. 2005</td>\n",
       "      <td>8.4</td>\n",
       "      <td>(4,852)</td>\n",
       "      <td>Michael and his staff challenge the warehouse ...</td>\n",
       "    </tr>\n",
       "  </tbody>\n",
       "</table>\n",
       "</div>"
      ],
      "text/plain": [
       "   season episode_number          title       airdate rating total_votes  \\\n",
       "0       1              1          Pilot  24 Mar. 2005    7.5     (5,548)   \n",
       "1       1              2  Diversity Day  29 Mar. 2005    8.3     (5,410)   \n",
       "2       1              3    Health Care   5 Apr. 2005    7.8     (4,536)   \n",
       "3       1              4   The Alliance  12 Apr. 2005    8.0     (4,420)   \n",
       "4       1              5     Basketball  19 Apr. 2005    8.4     (4,852)   \n",
       "\n",
       "                                                desc  \n",
       "0  The premiere episode introduces the boss and s...  \n",
       "1  Michael's off color remark puts a sensitivity ...  \n",
       "2  Michael leaves Dwight in charge of picking the...  \n",
       "3  Just for a laugh, Jim agrees to an alliance wi...  \n",
       "4  Michael and his staff challenge the warehouse ...  "
      ]
     },
     "execution_count": 20,
     "metadata": {},
     "output_type": "execute_result"
    }
   ],
   "source": [
    "import pandas as pd \n",
    "office_episodes = pd.DataFrame(office_episodes, columns = ['season', 'episode_number', 'title', 'rating', 'total_votes'])\n",
    "\n",
    "office_episodes.head()"
   ]
  },
  {
   "cell_type": "code",
   "execution_count": 21,
   "metadata": {},
   "outputs": [],
   "source": [
    "def remove_str(votes):\n",
    "    for r in ((',',''), ('(',''),(')','')):\n",
    "        votes = votes.replace(*r)\n",
    "        \n",
    "    return votes"
   ]
  },
  {
   "cell_type": "code",
   "execution_count": null,
   "metadata": {},
   "outputs": [],
   "source": [
    "office_episodes['total_votes'] = office_episodes.total_votes.apply(remove_str).astype(int)\n",
    "\n",
    "office_episodes.head()"
   ]
  },
  {
   "cell_type": "code",
   "execution_count": null,
   "metadata": {},
   "outputs": [],
   "source": [
    "office_episodes['rating'] = office_episodes.rating.astype(float)"
   ]
  },
  {
   "cell_type": "code",
   "execution_count": null,
   "metadata": {},
   "outputs": [],
   "source": [
    "office_episodes.info()"
   ]
  }
 ],
 "metadata": {
  "kernelspec": {
   "display_name": "Python 3",
   "language": "python",
   "name": "python3"
  },
  "language_info": {
   "codemirror_mode": {
    "name": "ipython",
    "version": 3
   },
   "file_extension": ".py",
   "mimetype": "text/x-python",
   "name": "python",
   "nbconvert_exporter": "python",
   "pygments_lexer": "ipython3",
   "version": "3.8.2"
  }
 },
 "nbformat": 4,
 "nbformat_minor": 4
}
